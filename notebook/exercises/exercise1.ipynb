{
 "cells": [
  {
   "cell_type": "code",
   "execution_count": null,
   "metadata": {},
   "outputs": [],
   "source": [
    "import exercise1_tools as tools"
   ]
  },
  {
   "cell_type": "code",
   "execution_count": null,
   "metadata": {},
   "outputs": [],
   "source": [
    "import nltk\n",
    "import re"
   ]
  },
  {
   "cell_type": "code",
   "execution_count": null,
   "metadata": {},
   "outputs": [],
   "source": [
    "text_src = open(\"excercise1_text.txt\", \"r\")"
   ]
  },
  {
   "cell_type": "code",
   "execution_count": null,
   "metadata": {},
   "outputs": [],
   "source": [
    "text     = text_src.read()"
   ]
  },
  {
   "cell_type": "code",
   "execution_count": null,
   "metadata": {},
   "outputs": [],
   "source": [
    "tokens   = nltk.word_tokenize(text)   # <type list>\n",
    "freqDist = nltk.FreqDist(tokens)      # <type nltk.probability.FreqDist> : [(<string>, <int>), ..]\n",
    "commons  = freqDist.most_common(6000) # <type list>"
   ]
  },
  {
   "cell_type": "code",
   "execution_count": null,
   "metadata": {},
   "outputs": [],
   "source": [
    "def commonWordsOf(n):\n",
    "    series = list()\n",
    "    for token in commons:\n",
    "        word = token[0]\n",
    "        if len(word) == n:\n",
    "            series.append(word)\n",
    "    return series"
   ]
  },
  {
   "cell_type": "code",
   "execution_count": null,
   "metadata": {},
   "outputs": [],
   "source": [
    "def tokensFromSeriesmapOf(seriesmap, number):\n",
    "    tokens = list()\n",
    "    for token in product(list(seriesmap), repeat=number):\n",
    "        tokens.append(\"\".join(token))\n",
    "    return tokens"
   ]
  },
  {
   "cell_type": "code",
   "execution_count": null,
   "metadata": {},
   "outputs": [],
   "source": [
    "def getRegexPattern(series):\n",
    "    regex = str()\n",
    "    for number in series:\n",
    "        regex = regex + \"[\" + tools.keyboard[number] + \"]\"\n",
    "    return regex"
   ]
  },
  {
   "cell_type": "code",
   "execution_count": null,
   "metadata": {},
   "outputs": [],
   "source": [
    "def resultFromSeries(series):\n",
    "    words = list()\n",
    "    wordsmap  = commonWordsOf(len(series))\n",
    "    seriesmap = str()\n",
    "    for number in series:\n",
    "        for letter in tools.keyboard[number]:\n",
    "            seriesmap = seriesmap + letter\n",
    "    tokens = tokensFromSeriesmapOf(seriesmap, len(series))\n",
    "    if any(word in tokens for word in wordsmap):\n",
    "        fullset = set(tokens).intersection(wordsmap)\n",
    "        pattern = re.compile(\"^(\" + getRegexPattern(series) + \")\")\n",
    "        return [word for word in fullset if pattern.match(word)]\n",
    "    return {}"
   ]
  },
  {
   "cell_type": "code",
   "execution_count": null,
   "metadata": {},
   "outputs": [
    {
     "data": {
      "text/plain": [
       "['mare']"
      ]
     },
     "execution_count": null,
     "metadata": {},
     "output_type": "execute_result"
    }
   ],
   "source": [
    "resultFromSeries(\"6273\")"
   ]
  },
  {
   "cell_type": "code",
   "execution_count": null,
   "metadata": {},
   "outputs": [],
   "source": [
    "def resultFromWord(word):\n",
    "    return word"
   ]
  }
 ],
 "metadata": {
  "kernelspec": {
   "display_name": "Python 3",
   "language": "python",
   "name": "python3"
  },
  "language_info": {
   "codemirror_mode": {
    "name": "ipython",
    "version": 3
   },
   "file_extension": ".py",
   "mimetype": "text/x-python",
   "name": "python",
   "nbconvert_exporter": "python",
   "pygments_lexer": "ipython3",
   "version": "3.5.4"
  }
 },
 "nbformat": 4,
 "nbformat_minor": 2
}
